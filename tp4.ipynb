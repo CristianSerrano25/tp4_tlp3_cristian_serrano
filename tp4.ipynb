{
 "cells": [
  {
   "cell_type": "markdown",
   "id": "3e4771e8",
   "metadata": {},
   "source": [
    "# Trabajo Practico n4 - Introduccion a numpy.\n",
    "## Criterios de evaluación.\n",
    "\n",
    "* Se deben utilizar nombres de variables descriptivos y claros (Utilizar la nomeclatura correspondiente para los nombres de variables).\n",
    "* Comentarios claros y concisos que expliquen el propósito de cada sección del código.\n",
    "* Utilizar mensajes de commit **descriptivos**. (Puedes utilizar la extension CONVENTIONAL COMMIT de VS-CODE). \n",
    "* Entrega en tiempo y forma.\n",
    "* Todo el código desarrollado debe ser subido a un repositorio en GitHub (el nombre del repositorio de seguir la siguiente estructura: tp4_tlp3_nombre_apellido).\n",
    "* Para resolver las actividades se debe insertar casillas de codigo entre cada actividad del cuaderno de Jupyter\n",
    "\n",
    "### ¡Importante!\n",
    "**El incumplimiento de los criterios de evaluación restará puntos en la nota final del práctico!**"
   ]
  },
  {
   "cell_type": "markdown",
   "id": "6f3340d9",
   "metadata": {},
   "source": [
    "**Importaciones:**"
   ]
  },
  {
   "cell_type": "code",
   "execution_count": 1,
   "id": "783ab170",
   "metadata": {},
   "outputs": [],
   "source": [
    "import numpy as np\n",
    "from random import randint"
   ]
  },
  {
   "cell_type": "markdown",
   "id": "c5ba7292",
   "metadata": {},
   "source": [
    "**Actividad 1:**: Crea un array de NumPy que contenga los números del 0 al 9. (Debes utilizar un metodo de numpy para su creacion.)"
   ]
  },
  {
   "cell_type": "code",
   "execution_count": 2,
   "id": "75029034",
   "metadata": {},
   "outputs": [
    {
     "name": "stdout",
     "output_type": "stream",
     "text": [
      "[0 1 2 3 4 5 6 7 8 9]\n"
     ]
    }
   ],
   "source": [
    "# array utilizando la funcion \"arange\" en numpy\n",
    "\n",
    "array = np.arange(10)\n",
    "print(array)"
   ]
  },
  {
   "cell_type": "markdown",
   "id": "cb894927",
   "metadata": {},
   "source": [
    "**Actividad 2:** Crea un array de 5 ceros, y luego cambia el tercer elemento (índice 2) para que sea 5. (Debes utilizar un metodo de numpy para su creacion.)"
   ]
  },
  {
   "cell_type": "code",
   "execution_count": 3,
   "id": "b9cd04a0",
   "metadata": {},
   "outputs": [
    {
     "name": "stdout",
     "output_type": "stream",
     "text": [
      "[0 0 0 0 0]\n",
      "[0 0 5 0 0]\n"
     ]
    }
   ],
   "source": [
    "# array de 5 ceros utilizando la función \"zeros\" en numpy\n",
    "\n",
    "array2 = np.zeros(5,int)\n",
    "print(array2)\n",
    "\n",
    "# se cambia el elemento de incide 2 para que sea 5\n",
    "\n",
    "array2[2] = 5\n",
    "print(array2)"
   ]
  },
  {
   "cell_type": "markdown",
   "id": "000352a3",
   "metadata": {},
   "source": [
    "**Actividad 3:** Genera una matriz 3x3 de números aleatorios entre 0 y 1."
   ]
  },
  {
   "cell_type": "code",
   "execution_count": 4,
   "id": "e74354c9",
   "metadata": {},
   "outputs": [
    {
     "name": "stdout",
     "output_type": "stream",
     "text": [
      "[[0.31332497 0.6652684  0.2619886 ]\n",
      " [0.45766937 0.66832104 0.23135351]\n",
      " [0.31563614 0.17419294 0.1381817 ]]\n"
     ]
    }
   ],
   "source": [
    "# matriz de 3x3 utilizando la función \"random.rand\" en numpy\n",
    "matriz = np.random.rand(3,3)\n",
    "print(matriz)"
   ]
  },
  {
   "cell_type": "markdown",
   "id": "6611aaf8",
   "metadata": {},
   "source": [
    "**Actividad 4:** Dado el siguiente array `arr = np.array([10, 20, 30, 40, 50])`\n",
    "1. Suma 5 a cada elemento.\n",
    "2. Multiplica todo por un numero aleatorio (utiliza el modulo random para generarlo.)"
   ]
  },
  {
   "cell_type": "code",
   "execution_count": 11,
   "id": "ed416e11",
   "metadata": {},
   "outputs": [
    {
     "name": "stdout",
     "output_type": "stream",
     "text": [
      "[10 20 30 40 50]\n",
      "[15 25 35 45 55]\n",
      "[ 30  50  70  90 110]\n"
     ]
    }
   ],
   "source": [
    "# dado el array proporcionado se procede a sumar 5 a cada elemento\n",
    "arr = np.array([10, 20, 30, 40, 50])\n",
    "print(arr)\n",
    "\n",
    "arr2 = arr + 5\n",
    "print(arr2)\n",
    "\n",
    "# ahora se multipica todo por un numero aleatorio utilizando random.randint\n",
    "\n",
    "num = np.random.randint(1,20)\n",
    "\n",
    "arr3 = arr2 * num\n",
    "print(arr3)\n"
   ]
  },
  {
   "cell_type": "markdown",
   "id": "fbd05c4d",
   "metadata": {},
   "source": [
    "**Actividad 5:** Crea una matriz identidad de tamaño 4x4 (unos en la diagonal principal y ceros en el resto)."
   ]
  },
  {
   "cell_type": "code",
   "execution_count": 12,
   "id": "6811c19f",
   "metadata": {},
   "outputs": [
    {
     "name": "stdout",
     "output_type": "stream",
     "text": [
      "[[1. 0. 0. 0.]\n",
      " [0. 1. 0. 0.]\n",
      " [0. 0. 1. 0.]\n",
      " [0. 0. 0. 1.]]\n"
     ]
    }
   ],
   "source": [
    "# se crea la matriz de indentidad de 4x4 utilizando la funcion \"eye\" de numpy\n",
    "matriz2 = np.eye(4)\n",
    "print(matriz2)"
   ]
  },
  {
   "cell_type": "markdown",
   "id": "3ec18459",
   "metadata": {},
   "source": [
    "**Actividad 6:** Crea un array que comience en 0 hasta el 20, pero que solo tenga numeros pares yu luego realiza las 4 operaciones basicas. (suma, resta, multiplicacion, division)."
   ]
  },
  {
   "cell_type": "code",
   "execution_count": 14,
   "id": "f0c02872",
   "metadata": {},
   "outputs": [
    {
     "name": "stdout",
     "output_type": "stream",
     "text": [
      "[ 0  2  4  6  8 10 12 14 16 18 20]\n",
      "[ 2  4  6  8 10 12 14 16 18 20 22]\n",
      "[-2  0  2  4  6  8 10 12 14 16 18]\n",
      "[ 0  4  8 12 16 20 24 28 32 36 40]\n",
      "[ 0  1  2  3  4  5  6  7  8  9 10]\n"
     ]
    }
   ],
   "source": [
    "# se crea un array de numeros pares hasta el 20 \n",
    "\n",
    "array3 = np.arange(0,21,2)\n",
    "print(array3)\n",
    "\n",
    "#suma \n",
    "suma = array3 + 2\n",
    "print(suma)\n",
    "\n",
    "# resta\n",
    "resta = array3 - 2\n",
    "print(resta)\n",
    "\n",
    "# multiplicacion = array3 * 2\n",
    "multiplicacion = array3 * 2\n",
    "print(multiplicacion)\n",
    "\n",
    "# division = array3 / 2 , se utiliza el metodo astype para convertir el resultado a numero entero\n",
    "division = (array3 / 2).astype(int)\n",
    "print(division)\n"
   ]
  }
 ],
 "metadata": {
  "kernelspec": {
   "display_name": "env",
   "language": "python",
   "name": "python3"
  },
  "language_info": {
   "codemirror_mode": {
    "name": "ipython",
    "version": 3
   },
   "file_extension": ".py",
   "mimetype": "text/x-python",
   "name": "python",
   "nbconvert_exporter": "python",
   "pygments_lexer": "ipython3",
   "version": "3.13.3"
  }
 },
 "nbformat": 4,
 "nbformat_minor": 5
}
